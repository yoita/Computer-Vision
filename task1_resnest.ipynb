{
  "cells": [
    {
      "cell_type": "code",
      "execution_count": null,
      "metadata": {
        "id": "hvv9WDQtkICg"
      },
      "outputs": [],
      "source": [
        "# !wget http://groups.csail.mit.edu/vision/LabelMe/NewImages/indoorCVPR_09.tar"
      ]
    },
    {
      "cell_type": "code",
      "execution_count": null,
      "metadata": {
        "id": "TaVP9m5s7xuk"
      },
      "outputs": [],
      "source": [
        "# ! tar -xf indoorCVPR_09.tar"
      ]
    },
    {
      "cell_type": "code",
      "execution_count": null,
      "metadata": {
        "id": "JRAt4TfQS_Bj"
      },
      "outputs": [],
      "source": [
        "# ! pip install kaggle"
      ]
    },
    {
      "cell_type": "code",
      "execution_count": null,
      "metadata": {
        "id": "Gvefq0upTD7K"
      },
      "outputs": [],
      "source": [
        "# ! mkdir ~/.kaggle"
      ]
    },
    {
      "cell_type": "code",
      "execution_count": null,
      "metadata": {
        "id": "I-WjMSh7TFoR"
      },
      "outputs": [],
      "source": [
        "# ! cp kaggle.json ~/.kaggle/"
      ]
    },
    {
      "cell_type": "code",
      "execution_count": null,
      "metadata": {
        "id": "hI4ziTIjTHMa"
      },
      "outputs": [],
      "source": [
        "# ! chmod 600 ~/.kaggle/kaggle.json"
      ]
    },
    {
      "cell_type": "code",
      "execution_count": null,
      "metadata": {
        "id": "m0SsJxmITImy"
      },
      "outputs": [],
      "source": [
        "# ! kaggle datasets download gpiosenka/100-bird-species"
      ]
    },
    {
      "cell_type": "code",
      "execution_count": null,
      "metadata": {
        "id": "OWuaJy9pTPZS"
      },
      "outputs": [],
      "source": [
        "# ! unzip 100-bird-species.zip"
      ]
    },
    {
      "cell_type": "code",
      "execution_count": null,
      "metadata": {
        "id": "5lFtOfxcTfws"
      },
      "outputs": [],
      "source": [
        "# # using github url\n",
        "# ! pip install git+https://github.com/zhanghang1989/ResNeSt"
      ]
    },
    {
      "cell_type": "code",
      "execution_count": null,
      "metadata": {
        "id": "euPfFwCwTi1Z"
      },
      "outputs": [],
      "source": [
        "# # using pypi\n",
        "# ! pip install resnest --pre"
      ]
    },
    {
      "cell_type": "code",
      "execution_count": null,
      "metadata": {
        "id": "krAc4PxAuMWx"
      },
      "outputs": [],
      "source": [
        "# ! pip install split-folders"
      ]
    },
    {
      "cell_type": "code",
      "execution_count": null,
      "metadata": {
        "id": "sG0XgfNUSPvx"
      },
      "outputs": [],
      "source": [
        "import torch\n",
        "import torch.nn as nn\n",
        "import torch.optim as optim\n",
        "import numpy as np\n",
        "import torchvision\n",
        "from PIL import Image, ImageFile\n",
        "from torchvision import datasets, models, transforms\n",
        "import matplotlib.pyplot as plt\n",
        "from torch.utils.data import Dataset, DataLoader\n",
        "from tqdm import tqdm\n",
        "import time\n",
        "import os\n",
        "import copy\n",
        "from resnest.torch import resnest50\n",
        "import splitfolders"
      ]
    },
    {
      "cell_type": "code",
      "execution_count": null,
      "metadata": {
        "id": "vH-BmqZFuXYV"
      },
      "outputs": [],
      "source": [
        "# splitfolders.ratio(\"Images\", output=\"output\",\n",
        "#     seed=1, ratio=(.8, .1, .1), group_prefix=None, move=False)"
      ]
    },
    {
      "cell_type": "code",
      "source": [
        "torch.manual_seed(1)\n",
        "np.random.seed(1)"
      ],
      "metadata": {
        "id": "o_ENtBbsOoZr"
      },
      "execution_count": null,
      "outputs": []
    },
    {
      "cell_type": "code",
      "execution_count": null,
      "metadata": {
        "id": "CKWRaTdzSSp4"
      },
      "outputs": [],
      "source": [
        "num_classes = 400\n",
        "N_worker = 4\n",
        "device = torch.device(\"cuda:0\" if torch.cuda.is_available() else \"cpu\")\n",
        "load_model_path = 'resnest50_bird.pth'\n",
        "save_path = 'resnest50_bird.pth'\n",
        "data_dir = '/content'\n",
        "test_dir = '/content/test'\n",
        "test_name_label_pair_path = './test_name_label.txt'"
      ]
    },
    {
      "cell_type": "code",
      "execution_count": null,
      "metadata": {
        "id": "jNqaiCs9SZ-F"
      },
      "outputs": [],
      "source": [
        "def train_model(model, dataloaders, criterion, optimizer, num_epochs):\n",
        "    since = time.time()\n",
        "    train_loss_history = []\n",
        "    train_acc_history = []\n",
        "    val_loss_history = []\n",
        "    val_acc_history = []\n",
        "    best_model_wts = copy.deepcopy(model.state_dict())\n",
        "    best_acc = 0.0\n",
        "\n",
        "    for epoch in range(num_epochs):\n",
        "        print('Epoch {}/{}'.format(epoch, num_epochs-1))\n",
        "        print('-'*10)\n",
        "\n",
        "        for phase in ['train', 'valid']:\n",
        "            if phase == 'train':\n",
        "                model.train()\n",
        "            else:\n",
        "                model.eval()\n",
        "            running_loss = 0.0\n",
        "            running_corrects = 0\n",
        "            for inputs, labels in dataloaders[phase]:\n",
        "                inputs = inputs.to(device)\n",
        "                labels = labels.to(device)\n",
        "                optimizer.zero_grad()\n",
        "                with torch.set_grad_enabled(phase=='train'):\n",
        "                    outputs = model(inputs)\n",
        "                    loss = criterion(outputs, labels)\n",
        "                    _, preds = torch.max(outputs, 1)\n",
        "                    if phase == 'train':\n",
        "                        loss.backward()\n",
        "                        optimizer.step()\n",
        "                running_loss += loss.item()*inputs.size(0)\n",
        "                running_corrects += torch.sum(preds == labels.data)\n",
        "            epoch_loss = running_loss / len(dataloaders[phase].dataset)\n",
        "            epoch_acc = running_corrects.double() / len(dataloaders[phase].dataset)\n",
        "\n",
        "            print('{} Loss: {:.4f} Acc: {:.4f}'.format(phase, epoch_loss, epoch_acc))\n",
        "\n",
        "            if phase == \"train\":\n",
        "                train_loss_history.append(epoch_loss)\n",
        "                train_acc_history.append(epoch_acc)\n",
        "            if phase == \"valid\":\n",
        "                val_loss_history.append(epoch_loss)\n",
        "                val_acc_history.append(epoch_acc)\n",
        "\n",
        "            # keep track the best validation accuracy and save its weight\n",
        "            if phase == 'valid' and epoch_acc > best_acc:\n",
        "                best_acc = epoch_acc\n",
        "                best_model_wts = copy.deepcopy(model.state_dict())\n",
        "\n",
        "    time_elapsed = time.time() - since\n",
        "    print('Training complete in {:.0f}m {:.0f}s'.format(time_elapsed // 60, time_elapsed % 60))\n",
        "    print('Best val Acc: {:4f}'.format(best_acc))\n",
        "\n",
        "    model.load_state_dict(best_model_wts)\n",
        "    return model, train_loss_history, train_acc_history, val_loss_history, val_acc_history"
      ]
    },
    {
      "cell_type": "code",
      "execution_count": null,
      "metadata": {
        "id": "UTg0V8aHSdyS"
      },
      "outputs": [],
      "source": [
        "# freeze the layers where the pre-trained weights get loaded\n",
        "def set_parameter_requires_grad(model, feature_extracting):\n",
        "    if feature_extracting:\n",
        "        for param in model.parameters():\n",
        "            param.requires_grad = False"
      ]
    },
    {
      "cell_type": "code",
      "execution_count": null,
      "metadata": {
        "id": "foH2zevlSfg2"
      },
      "outputs": [],
      "source": [
        "def initialize_model(num_classes=num_classes, feature_extract=True, model_name='resnest50', use_pretrained=True):\n",
        "    model_ft = None\n",
        "    input_size = 0\n",
        "\n",
        "    if model_name == 'resnest50':\n",
        "        model_ft = resnest50(pretrained=use_pretrained)\n",
        "        set_parameter_requires_grad(model_ft, feature_extract)\n",
        "        num_ftrs = model_ft.fc.in_features\n",
        "        model_ft.fc = nn.Linear(num_ftrs, num_classes)\n",
        "        input_size = 224\n",
        "\n",
        "    model_ft = model_ft.to(device)\n",
        "    params_to_update = model_ft.parameters()\n",
        "    optimizer_ft = optim.Adam(params_to_update, lr=0.001)\n",
        "\n",
        "    return model_ft, optimizer_ft, input_size"
      ]
    },
    {
      "cell_type": "code",
      "execution_count": null,
      "metadata": {
        "id": "ySpBrpyZSs0_"
      },
      "outputs": [],
      "source": [
        "def train():\n",
        "    num_epochs = 10\n",
        "    batch_size = 64\n",
        "    print('Train...')\n",
        "    model_ft, optimizer_ft, input_size = initialize_model()\n",
        "    criterion = nn.CrossEntropyLoss()\n",
        "    data_transforms = {\n",
        "        'train': transforms.Compose([\n",
        "            transforms.Resize(input_size),\n",
        "            transforms.CenterCrop(input_size),\n",
        "            transforms.RandomHorizontalFlip(),\n",
        "            transforms.ToTensor(),\n",
        "            transforms.Normalize([0.485, 0.456, 0.406], [0.229, 0.224, 0.225])\n",
        "        ]),\n",
        "        'valid': transforms.Compose([\n",
        "            transforms.Resize(input_size),\n",
        "            transforms.CenterCrop(input_size),\n",
        "            transforms.ToTensor(),\n",
        "            transforms.Normalize([0.485, 0.456, 0.406], [0.229, 0.224, 0.225])\n",
        "        ])\n",
        "    }\n",
        "\n",
        "    # read images into dataloaders\n",
        "    image_datasets = {x: datasets.ImageFolder(os.path.join(data_dir, x), data_transforms[x]) for x in ['train', 'valid']}\n",
        "    dataloaders_dict = {x: torch.utils.data.DataLoader(image_datasets[x], batch_size=batch_size, shuffle=True,\n",
        "                                        num_workers=N_worker) for x in ['train', 'valid']}\n",
        "    print(\"train total size: \" + str(len(image_datasets[\"train\"])))\n",
        "    print(\"val total size: \" + str(len(image_datasets[\"valid\"])))\n",
        "\n",
        "    model_ft, train_loss_history, train_acc_history, val_loss_history, val_acc_history = train_model(model_ft, dataloaders_dict, \n",
        "                                                                                                     criterion, optimizer_ft, num_epochs)\n",
        "    \n",
        "    torch.save(model_ft.state_dict(), save_path)\n",
        "    print('model saved.')\n",
        "\n",
        "    return train_loss_history, train_acc_history, val_loss_history, val_acc_history"
      ]
    },
    {
      "cell_type": "code",
      "execution_count": null,
      "metadata": {
        "colab": {
          "base_uri": "https://localhost:8080/",
          "height": 944,
          "referenced_widgets": [
            "0741ce8b54964a20a75dc9361c28e37b",
            "e2fb0afbcae946e1b7adb74df5072665",
            "23701763cab047c1b12458634f079884",
            "96303e95a4cc49b7844842d0da7d867a",
            "2821cccd474a493e96d13cee841727c5",
            "ce0f3a6c8ace45b5a1de0412b63eba62",
            "29926792aa084315a536453a90fdd777",
            "63197e5dc63249c18f0b924c656191bd",
            "5dfc0ce3410f4569ab5fccdcea664002",
            "299a75718b314591bbc0ad9f8cce1146",
            "2e037c8f14a24b03adb17d96c784133e"
          ]
        },
        "id": "T1_JGElDS6rJ",
        "outputId": "8d353bea-86e9-4ca5-feb3-308c9fdf48e2"
      },
      "outputs": [
        {
          "output_type": "stream",
          "name": "stdout",
          "text": [
            "Train...\n"
          ]
        },
        {
          "output_type": "stream",
          "name": "stderr",
          "text": [
            "Downloading: \"https://github.com/zhanghang1989/ResNeSt/releases/download/weights_step1/resnest50-528c19ca.pth\" to /root/.cache/torch/hub/checkpoints/resnest50-528c19ca.pth\n"
          ]
        },
        {
          "output_type": "display_data",
          "data": {
            "text/plain": [
              "  0%|          | 0.00/105M [00:00<?, ?B/s]"
            ],
            "application/vnd.jupyter.widget-view+json": {
              "version_major": 2,
              "version_minor": 0,
              "model_id": "0741ce8b54964a20a75dc9361c28e37b"
            }
          },
          "metadata": {}
        },
        {
          "output_type": "stream",
          "name": "stdout",
          "text": [
            "train total size: 58388\n",
            "val total size: 2000\n",
            "Epoch 0/9\n",
            "----------\n"
          ]
        },
        {
          "output_type": "stream",
          "name": "stderr",
          "text": [
            "/usr/local/lib/python3.7/dist-packages/torch/utils/data/dataloader.py:481: UserWarning: This DataLoader will create 4 worker processes in total. Our suggested max number of worker in current system is 2, which is smaller than what this DataLoader is going to create. Please be aware that excessive worker creation might get DataLoader running slow or even freeze, lower the worker number to avoid potential slowness/freeze if necessary.\n",
            "  cpuset_checked))\n"
          ]
        },
        {
          "output_type": "stream",
          "name": "stdout",
          "text": [
            "train Loss: 1.5576 Acc: 0.7172\n",
            "valid Loss: 0.4260 Acc: 0.9180\n",
            "Epoch 1/9\n",
            "----------\n",
            "train Loss: 0.3699 Acc: 0.9276\n",
            "valid Loss: 0.3001 Acc: 0.9375\n",
            "Epoch 2/9\n",
            "----------\n",
            "train Loss: 0.1993 Acc: 0.9637\n",
            "valid Loss: 0.2524 Acc: 0.9380\n",
            "Epoch 3/9\n",
            "----------\n",
            "train Loss: 0.1203 Acc: 0.9807\n",
            "valid Loss: 0.2044 Acc: 0.9515\n",
            "Epoch 4/9\n",
            "----------\n",
            "train Loss: 0.0806 Acc: 0.9874\n",
            "valid Loss: 0.2166 Acc: 0.9435\n",
            "Epoch 5/9\n",
            "----------\n",
            "train Loss: 0.0607 Acc: 0.9902\n",
            "valid Loss: 0.2005 Acc: 0.9455\n",
            "Epoch 6/9\n",
            "----------\n",
            "train Loss: 0.0450 Acc: 0.9932\n",
            "valid Loss: 0.2039 Acc: 0.9460\n",
            "Epoch 7/9\n",
            "----------\n",
            "train Loss: 0.0369 Acc: 0.9942\n",
            "valid Loss: 0.2063 Acc: 0.9470\n",
            "Epoch 8/9\n",
            "----------\n",
            "train Loss: 0.0310 Acc: 0.9947\n",
            "valid Loss: 0.1986 Acc: 0.9485\n",
            "Epoch 9/9\n",
            "----------\n",
            "train Loss: 0.0267 Acc: 0.9952\n",
            "valid Loss: 0.1883 Acc: 0.9520\n",
            "Training complete in 64m 37s\n",
            "Best val Acc: 0.952000\n",
            "model saved.\n"
          ]
        }
      ],
      "source": [
        "train_loss_history, train_acc_history, val_loss_history, val_acc_history = train()"
      ]
    },
    {
      "cell_type": "code",
      "execution_count": null,
      "metadata": {
        "id": "tWcUQwNkXsYC",
        "colab": {
          "base_uri": "https://localhost:8080/",
          "height": 350
        },
        "outputId": "bad65b3b-247e-4888-c08f-9229720b9615"
      },
      "outputs": [
        {
          "output_type": "display_data",
          "data": {
            "text/plain": [
              "<Figure size 720x360 with 1 Axes>"
            ],
            "image/png": "[encoded data removed]"
          },
          "metadata": {
            "needs_background": "light"
          }
        }
      ],
      "source": [
        "plt.figure(figsize=(10,5))\n",
        "plt.title(\"Training and Validation Loss\")\n",
        "plt.plot(train_loss_history, label=\"train\")\n",
        "plt.plot(val_loss_history, label=\"val\")\n",
        "plt.xlabel(\"Iteration Index\")\n",
        "plt.ylabel(\"Loss\")\n",
        "plt.legend()\n",
        "plt.show()"
      ]
    },
    {
      "cell_type": "code",
      "execution_count": null,
      "metadata": {
        "id": "HYGw72uUYDsQ",
        "colab": {
          "base_uri": "https://localhost:8080/",
          "height": 350
        },
        "outputId": "7302c9f2-1847-4770-bce2-5d8e52ecacca"
      },
      "outputs": [
        {
          "output_type": "display_data",
          "data": {
            "text/plain": [
              "<Figure size 720x360 with 1 Axes>"
            ],
            "image/png": "[encoded data removed]"
          },
          "metadata": {
            "needs_background": "light"
          }
        }
      ],
      "source": [
        "plt.figure(figsize=(10,5))\n",
        "plt.title(\"Training and Validation Accuracy\")\n",
        "plt.plot([acc_tensor.item() for acc_tensor in train_acc_history], label=\"train\")\n",
        "plt.plot([acc_tensor.item() for acc_tensor in val_acc_history], label=\"val\")\n",
        "plt.xlabel(\"Iteration Index\")\n",
        "plt.ylabel(\"Accuracy\")\n",
        "plt.legend()\n",
        "plt.show()"
      ]
    },
    {
      "cell_type": "code",
      "source": [
        "print(train_loss_history)\n",
        "print(val_loss_history)\n",
        "print([acc_tensor.item() for acc_tensor in train_acc_history])\n",
        "print([acc_tensor.item() for acc_tensor in val_acc_history])"
      ],
      "metadata": {
        "colab": {
          "base_uri": "https://localhost:8080/"
        },
        "id": "mQinpird7QAR",
        "outputId": "64ebcc97-1841-4806-c084-4f05ebcaabe0"
      },
      "execution_count": null,
      "outputs": [
        {
          "output_type": "stream",
          "name": "stdout",
          "text": [
            "[1.5575953271606733, 0.3699479692489176, 0.19932783217987737, 0.12034562833935396, 0.08061100790302517, 0.060662809750956524, 0.045036364406716815, 0.03693410278085307, 0.03101962101462974, 0.026692055914041366]\n",
            "[0.4260015025138855, 0.30010572576522826, 0.2524019968509674, 0.2044382429420948, 0.21657599091529847, 0.2004966599866748, 0.2039409680068493, 0.20634008514881133, 0.1985650986433029, 0.18830640554428102]\n",
            "[0.7172192916352675, 0.9275878605192848, 0.9637082962252518, 0.9806809618414744, 0.9874117969445777, 0.9902034664657121, 0.993183530862506, 0.9941597588545592, 0.9946735630609029, 0.9952387476878811]\n",
            "[0.918, 0.9375, 0.9380000000000001, 0.9515, 0.9435, 0.9455, 0.9460000000000001, 0.9470000000000001, 0.9485, 0.9520000000000001]\n"
          ]
        }
      ]
    },
    {
      "cell_type": "code",
      "source": [
        "# load the saved model for prediction\n",
        "model_ft = resnest50(pretrained=False)\n",
        "num_ftrs = model_ft.fc.in_features\n",
        "model_ft.fc = nn.Linear(num_ftrs, num_classes)\n",
        "model_ft.load_state_dict(torch.load(load_model_path))\n",
        "model_ft = model_ft.to(device)"
      ],
      "metadata": {
        "id": "YzRTUfBrFtW1"
      },
      "execution_count": null,
      "outputs": []
    },
    {
      "cell_type": "code",
      "source": [
        "def predict(model, dataloader):\n",
        "    model.eval()\n",
        "\n",
        "    running_corrects = 0\n",
        "    with torch.no_grad():\n",
        "        for i, (inputs, labels) in enumerate(dataloader):\n",
        "            inputs = inputs.to(device)\n",
        "            labels = labels.to(device)\n",
        "\n",
        "            outputs = model(inputs)\n",
        "            _, preds = torch.max(outputs, 1)\n",
        "            running_corrects += torch.sum(preds == labels.data)\n",
        "\n",
        "    acc = running_corrects.double() / len(dataloader.dataset)\n",
        "    print('Acc: {:.4f}'.format(acc))"
      ],
      "metadata": {
        "id": "_sG5lH5EFhnK"
      },
      "execution_count": null,
      "outputs": []
    },
    {
      "cell_type": "code",
      "source": [
        "# read images into dataloader\n",
        "test_imageFolder = datasets.ImageFolder(os.path.join(data_dir, \"test\"), \n",
        "        transforms.Compose([\n",
        "            transforms.Resize(224),\n",
        "            transforms.CenterCrop(224),\n",
        "            transforms.ToTensor(),\n",
        "            transforms.Normalize([0.485, 0.456, 0.406], [0.229, 0.224, 0.225])\n",
        "        ]))\n",
        "print(\"test total size: \" + str(len(test_imageFolder)))\n",
        "test_loader = torch.utils.data.DataLoader(test_imageFolder, batch_size=64, shuffle=True, num_workers=N_worker)"
      ],
      "metadata": {
        "colab": {
          "base_uri": "https://localhost:8080/"
        },
        "id": "AuJP3FrRIMR4",
        "outputId": "d884c325-d454-424d-fb2c-13488a6f6390"
      },
      "execution_count": null,
      "outputs": [
        {
          "output_type": "stream",
          "name": "stdout",
          "text": [
            "test total size: 2000\n"
          ]
        },
        {
          "output_type": "stream",
          "name": "stderr",
          "text": [
            "/usr/local/lib/python3.7/dist-packages/torch/utils/data/dataloader.py:481: UserWarning: This DataLoader will create 4 worker processes in total. Our suggested max number of worker in current system is 2, which is smaller than what this DataLoader is going to create. Please be aware that excessive worker creation might get DataLoader running slow or even freeze, lower the worker number to avoid potential slowness/freeze if necessary.\n",
            "  cpuset_checked))\n"
          ]
        }
      ]
    },
    {
      "cell_type": "code",
      "source": [
        "predict(model_ft, test_loader)"
      ],
      "metadata": {
        "colab": {
          "base_uri": "https://localhost:8080/"
        },
        "id": "yCDVHaGuKBdf",
        "outputId": "f4366009-5b08-49f7-bb32-a4d99ebb4da0"
      },
      "execution_count": null,
      "outputs": [
        {
          "output_type": "stream",
          "name": "stderr",
          "text": [
            "/usr/local/lib/python3.7/dist-packages/torch/utils/data/dataloader.py:481: UserWarning: This DataLoader will create 4 worker processes in total. Our suggested max number of worker in current system is 2, which is smaller than what this DataLoader is going to create. Please be aware that excessive worker creation might get DataLoader running slow or even freeze, lower the worker number to avoid potential slowness/freeze if necessary.\n",
            "  cpuset_checked))\n"
          ]
        },
        {
          "output_type": "stream",
          "name": "stdout",
          "text": [
            "Acc: 0.9540\n"
          ]
        }
      ]
    }
  ],
  "metadata": {
    "accelerator": "GPU",
    "colab": {
      "collapsed_sections": [],
      "name": "task1_resnest.ipynb",
      "provenance": []
    },
    "kernelspec": {
      "display_name": "Python 3",
      "name": "python3"
    },
    "language_info": {
      "name": "python"
    },
    "widgets": {
      "application/vnd.jupyter.widget-state+json": {
        "0741ce8b54964a20a75dc9361c28e37b": {
          "model_module": "@jupyter-widgets/controls",
          "model_name": "HBoxModel",
          "model_module_version": "1.5.0",
          "state": {
            "_dom_classes": [],
            "_model_module": "@jupyter-widgets/controls",
            "_model_module_version": "1.5.0",
            "_model_name": "HBoxModel",
            "_view_count": null,
            "_view_module": "@jupyter-widgets/controls",
            "_view_module_version": "1.5.0",
            "_view_name": "HBoxView",
            "box_style": "",
            "children": [
              "IPY_MODEL_e2fb0afbcae946e1b7adb74df5072665",
              "IPY_MODEL_23701763cab047c1b12458634f079884",
              "IPY_MODEL_96303e95a4cc49b7844842d0da7d867a"
            ],
            "layout": "IPY_MODEL_2821cccd474a493e96d13cee841727c5"
          }
        },
        "e2fb0afbcae946e1b7adb74df5072665": {
          "model_module": "@jupyter-widgets/controls",
          "model_name": "HTMLModel",
          "model_module_version": "1.5.0",
          "state": {
            "_dom_classes": [],
            "_model_module": "@jupyter-widgets/controls",
            "_model_module_version": "1.5.0",
            "_model_name": "HTMLModel",
            "_view_count": null,
            "_view_module": "@jupyter-widgets/controls",
            "_view_module_version": "1.5.0",
            "_view_name": "HTMLView",
            "description": "",
            "description_tooltip": null,
            "layout": "IPY_MODEL_ce0f3a6c8ace45b5a1de0412b63eba62",
            "placeholder": "​",
            "style": "IPY_MODEL_29926792aa084315a536453a90fdd777",
            "value": "100%"
          }
        },
        "23701763cab047c1b12458634f079884": {
          "model_module": "@jupyter-widgets/controls",
          "model_name": "FloatProgressModel",
          "model_module_version": "1.5.0",
          "state": {
            "_dom_classes": [],
            "_model_module": "@jupyter-widgets/controls",
            "_model_module_version": "1.5.0",
            "_model_name": "FloatProgressModel",
            "_view_count": null,
            "_view_module": "@jupyter-widgets/controls",
            "_view_module_version": "1.5.0",
            "_view_name": "ProgressView",
            "bar_style": "success",
            "description": "",
            "description_tooltip": null,
            "layout": "IPY_MODEL_63197e5dc63249c18f0b924c656191bd",
            "max": 110273258,
            "min": 0,
            "orientation": "horizontal",
            "style": "IPY_MODEL_5dfc0ce3410f4569ab5fccdcea664002",
            "value": 110273258
          }
        },
        "96303e95a4cc49b7844842d0da7d867a": {
          "model_module": "@jupyter-widgets/controls",
          "model_name": "HTMLModel",
          "model_module_version": "1.5.0",
          "state": {
            "_dom_classes": [],
            "_model_module": "@jupyter-widgets/controls",
            "_model_module_version": "1.5.0",
            "_model_name": "HTMLModel",
            "_view_count": null,
            "_view_module": "@jupyter-widgets/controls",
            "_view_module_version": "1.5.0",
            "_view_name": "HTMLView",
            "description": "",
            "description_tooltip": null,
            "layout": "IPY_MODEL_299a75718b314591bbc0ad9f8cce1146",
            "placeholder": "​",
            "style": "IPY_MODEL_2e037c8f14a24b03adb17d96c784133e",
            "value": " 105M/105M [00:02&lt;00:00, 64.1MB/s]"
          }
        },
        "2821cccd474a493e96d13cee841727c5": {
          "model_module": "@jupyter-widgets/base",
          "model_name": "LayoutModel",
          "model_module_version": "1.2.0",
          "state": {
            "_model_module": "@jupyter-widgets/base",
            "_model_module_version": "1.2.0",
            "_model_name": "LayoutModel",
            "_view_count": null,
            "_view_module": "@jupyter-widgets/base",
            "_view_module_version": "1.2.0",
            "_view_name": "LayoutView",
            "align_content": null,
            "align_items": null,
            "align_self": null,
            "border": null,
            "bottom": null,
            "display": null,
            "flex": null,
            "flex_flow": null,
            "grid_area": null,
            "grid_auto_columns": null,
            "grid_auto_flow": null,
            "grid_auto_rows": null,
            "grid_column": null,
            "grid_gap": null,
            "grid_row": null,
            "grid_template_areas": null,
            "grid_template_columns": null,
            "grid_template_rows": null,
            "height": null,
            "justify_content": null,
            "justify_items": null,
            "left": null,
            "margin": null,
            "max_height": null,
            "max_width": null,
            "min_height": null,
            "min_width": null,
            "object_fit": null,
            "object_position": null,
            "order": null,
            "overflow": null,
            "overflow_x": null,
            "overflow_y": null,
            "padding": null,
            "right": null,
            "top": null,
            "visibility": null,
            "width": null
          }
        },
        "ce0f3a6c8ace45b5a1de0412b63eba62": {
          "model_module": "@jupyter-widgets/base",
          "model_name": "LayoutModel",
          "model_module_version": "1.2.0",
          "state": {
            "_model_module": "@jupyter-widgets/base",
            "_model_module_version": "1.2.0",
            "_model_name": "LayoutModel",
            "_view_count": null,
            "_view_module": "@jupyter-widgets/base",
            "_view_module_version": "1.2.0",
            "_view_name": "LayoutView",
            "align_content": null,
            "align_items": null,
            "align_self": null,
            "border": null,
            "bottom": null,
            "display": null,
            "flex": null,
            "flex_flow": null,
            "grid_area": null,
            "grid_auto_columns": null,
            "grid_auto_flow": null,
            "grid_auto_rows": null,
            "grid_column": null,
            "grid_gap": null,
            "grid_row": null,
            "grid_template_areas": null,
            "grid_template_columns": null,
            "grid_template_rows": null,
            "height": null,
            "justify_content": null,
            "justify_items": null,
            "left": null,
            "margin": null,
            "max_height": null,
            "max_width": null,
            "min_height": null,
            "min_width": null,
            "object_fit": null,
            "object_position": null,
            "order": null,
            "overflow": null,
            "overflow_x": null,
            "overflow_y": null,
            "padding": null,
            "right": null,
            "top": null,
            "visibility": null,
            "width": null
          }
        },
        "29926792aa084315a536453a90fdd777": {
          "model_module": "@jupyter-widgets/controls",
          "model_name": "DescriptionStyleModel",
          "model_module_version": "1.5.0",
          "state": {
            "_model_module": "@jupyter-widgets/controls",
            "_model_module_version": "1.5.0",
            "_model_name": "DescriptionStyleModel",
            "_view_count": null,
            "_view_module": "@jupyter-widgets/base",
            "_view_module_version": "1.2.0",
            "_view_name": "StyleView",
            "description_width": ""
          }
        },
        "63197e5dc63249c18f0b924c656191bd": {
          "model_module": "@jupyter-widgets/base",
          "model_name": "LayoutModel",
          "model_module_version": "1.2.0",
          "state": {
            "_model_module": "@jupyter-widgets/base",
            "_model_module_version": "1.2.0",
            "_model_name": "LayoutModel",
            "_view_count": null,
            "_view_module": "@jupyter-widgets/base",
            "_view_module_version": "1.2.0",
            "_view_name": "LayoutView",
            "align_content": null,
            "align_items": null,
            "align_self": null,
            "border": null,
            "bottom": null,
            "display": null,
            "flex": null,
            "flex_flow": null,
            "grid_area": null,
            "grid_auto_columns": null,
            "grid_auto_flow": null,
            "grid_auto_rows": null,
            "grid_column": null,
            "grid_gap": null,
            "grid_row": null,
            "grid_template_areas": null,
            "grid_template_columns": null,
            "grid_template_rows": null,
            "height": null,
            "justify_content": null,
            "justify_items": null,
            "left": null,
            "margin": null,
            "max_height": null,
            "max_width": null,
            "min_height": null,
            "min_width": null,
            "object_fit": null,
            "object_position": null,
            "order": null,
            "overflow": null,
            "overflow_x": null,
            "overflow_y": null,
            "padding": null,
            "right": null,
            "top": null,
            "visibility": null,
            "width": null
          }
        },
        "5dfc0ce3410f4569ab5fccdcea664002": {
          "model_module": "@jupyter-widgets/controls",
          "model_name": "ProgressStyleModel",
          "model_module_version": "1.5.0",
          "state": {
            "_model_module": "@jupyter-widgets/controls",
            "_model_module_version": "1.5.0",
            "_model_name": "ProgressStyleModel",
            "_view_count": null,
            "_view_module": "@jupyter-widgets/base",
            "_view_module_version": "1.2.0",
            "_view_name": "StyleView",
            "bar_color": null,
            "description_width": ""
          }
        },
        "299a75718b314591bbc0ad9f8cce1146": {
          "model_module": "@jupyter-widgets/base",
          "model_name": "LayoutModel",
          "model_module_version": "1.2.0",
          "state": {
            "_model_module": "@jupyter-widgets/base",
            "_model_module_version": "1.2.0",
            "_model_name": "LayoutModel",
            "_view_count": null,
            "_view_module": "@jupyter-widgets/base",
            "_view_module_version": "1.2.0",
            "_view_name": "LayoutView",
            "align_content": null,
            "align_items": null,
            "align_self": null,
            "border": null,
            "bottom": null,
            "display": null,
            "flex": null,
            "flex_flow": null,
            "grid_area": null,
            "grid_auto_columns": null,
            "grid_auto_flow": null,
            "grid_auto_rows": null,
            "grid_column": null,
            "grid_gap": null,
            "grid_row": null,
            "grid_template_areas": null,
            "grid_template_columns": null,
            "grid_template_rows": null,
            "height": null,
            "justify_content": null,
            "justify_items": null,
            "left": null,
            "margin": null,
            "max_height": null,
            "max_width": null,
            "min_height": null,
            "min_width": null,
            "object_fit": null,
            "object_position": null,
            "order": null,
            "overflow": null,
            "overflow_x": null,
            "overflow_y": null,
            "padding": null,
            "right": null,
            "top": null,
            "visibility": null,
            "width": null
          }
        },
        "2e037c8f14a24b03adb17d96c784133e": {
          "model_module": "@jupyter-widgets/controls",
          "model_name": "DescriptionStyleModel",
          "model_module_version": "1.5.0",
          "state": {
            "_model_module": "@jupyter-widgets/controls",
            "_model_module_version": "1.5.0",
            "_model_name": "DescriptionStyleModel",
            "_view_count": null,
            "_view_module": "@jupyter-widgets/base",
            "_view_module_version": "1.2.0",
            "_view_name": "StyleView",
            "description_width": ""
          }
        }
      }
    }
  },
  "nbformat": 4,
  "nbformat_minor": 0
}
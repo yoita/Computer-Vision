{
 "cells": [
  {
   "cell_type": "code",
   "execution_count": null,
   "metadata": {
    "colab": {
     "base_uri": "https://localhost:8080/"
    },
    "id": "Qs0Sjf07eJ2I",
    "outputId": "873d42be-ba7d-465d-cace-7915374eb284"
   },
   "outputs": [
    {
     "name": "stdout",
     "output_type": "stream",
     "text": [
      "Mounted at /content/drive\n"
     ]
    }
   ],
   "source": [
    "from google.colab import drive\n",
    "drive.mount('/content/drive')"
   ]
  },
  {
   "cell_type": "code",
   "execution_count": null,
   "metadata": {
    "id": "XELOpX1CfLGR"
   },
   "outputs": [],
   "source": [
    "import os\n",
    "import sys\n",
    "import json\n",
    "\n",
    "import torch\n",
    "import torch.nn as nn\n",
    "from torchvision import transforms, datasets\n",
    "import torch.optim as optim\n",
    "from tqdm import tqdm"
   ]
  },
  {
   "cell_type": "code",
   "execution_count": null,
   "metadata": {
    "id": "6mDAC4iu4pau"
   },
   "outputs": [],
   "source": [
    "from torchvision import models\n",
    "import pandas as pd"
   ]
  },
  {
   "cell_type": "code",
   "execution_count": null,
   "metadata": {
    "colab": {
     "base_uri": "https://localhost:8080/",
     "height": 67,
     "referenced_widgets": [
      "716c1f5f494e494c96a48f43ed3b9886",
      "23ea80932c2847fa903811ba33b5bf24",
      "7348673c19934ebda079919347a80a98",
      "b56ab83adecd4fdbbf3bbb84cb54377f",
      "7fa3785688af41649eb6e0072e1e537a",
      "1b51e48863a64b578255de247a51c140",
      "4bd7d6e59ad04fd59e268b1ae4621dab",
      "5d6c61432c4741248a95a230183f1c07",
      "80eb60276f574284ac447f607ea7cd6c",
      "29ad6d2631424325a908eed12e827a4d",
      "94350840b16e41038ee557db1723d97d"
     ]
    },
    "id": "0JEg20yG48G2",
    "outputId": "c2446d0d-a624-45be-ce4c-83c4fd7d21db"
   },
   "outputs": [
    {
     "name": "stderr",
     "output_type": "stream",
     "text": [
      "Downloading: \"https://download.pytorch.org/models/vgg16-397923af.pth\" to /root/.cache/torch/hub/checkpoints/vgg16-397923af.pth\n"
     ]
    },
    {
     "data": {
      "application/vnd.jupyter.widget-view+json": {
       "model_id": "716c1f5f494e494c96a48f43ed3b9886",
       "version_major": 2,
       "version_minor": 0
      },
      "text/plain": [
       "  0%|          | 0.00/528M [00:00<?, ?B/s]"
      ]
     },
     "metadata": {},
     "output_type": "display_data"
    }
   ],
   "source": [
    "vgg16 = models.vgg16(pretrained=True)"
   ]
  },
  {
   "cell_type": "code",
   "execution_count": null,
   "metadata": {
    "colab": {
     "base_uri": "https://localhost:8080/"
    },
    "id": "0l76hU9FfNSO",
    "outputId": "1cb66dd3-d1dc-4893-f37d-7220901984a8"
   },
   "outputs": [
    {
     "name": "stdout",
     "output_type": "stream",
     "text": [
      "using cuda:0 device.\n",
      "Using 2 dataloader workers every process\n",
      "using 58388 images for training, 2000 images for validation.\n",
      "train epoch[1/10] loss:1.943: 100%|██████████| 229/229 [04:30<00:00,  1.18s/it]\n",
      "valid epoch[1/10]: 100%|██████████| 8/8 [00:12<00:00,  1.56s/it]\n",
      "[epoch 1] train_loss: 2.770  train_accuracy: 0.399  val_loss: 0.866  val_accuracy: 0.781\n",
      "train epoch[2/10] loss:1.654: 100%|██████████| 229/229 [04:14<00:00,  1.11s/it]\n",
      "valid epoch[2/10]: 100%|██████████| 8/8 [00:11<00:00,  1.48s/it]\n",
      "[epoch 2] train_loss: 1.984  train_accuracy: 0.529  val_loss: 0.649  val_accuracy: 0.834\n",
      "train epoch[3/10] loss:2.723: 100%|██████████| 229/229 [05:08<00:00,  1.35s/it]\n",
      "valid epoch[3/10]: 100%|██████████| 8/8 [00:12<00:00,  1.59s/it]\n",
      "[epoch 3] train_loss: 1.905  train_accuracy: 0.547  val_loss: 0.593  val_accuracy: 0.842\n",
      "train epoch[4/10] loss:2.330: 100%|██████████| 229/229 [04:15<00:00,  1.12s/it]\n",
      "valid epoch[4/10]: 100%|██████████| 8/8 [00:12<00:00,  1.50s/it]\n",
      "[epoch 4] train_loss: 1.849  train_accuracy: 0.558  val_loss: 0.536  val_accuracy: 0.856\n",
      "train epoch[5/10] loss:1.793: 100%|██████████| 229/229 [04:51<00:00,  1.27s/it]\n",
      "valid epoch[5/10]: 100%|██████████| 8/8 [00:12<00:00,  1.62s/it]\n",
      "[epoch 5] train_loss: 1.805  train_accuracy: 0.567  val_loss: 0.500  val_accuracy: 0.868\n",
      "train epoch[6/10] loss:1.278: 100%|██████████| 229/229 [04:20<00:00,  1.14s/it]\n",
      "valid epoch[6/10]: 100%|██████████| 8/8 [00:11<00:00,  1.49s/it]\n",
      "[epoch 6] train_loss: 1.775  train_accuracy: 0.576  val_loss: 0.494  val_accuracy: 0.868\n",
      "train epoch[7/10] loss:0.818: 100%|██████████| 229/229 [04:36<00:00,  1.21s/it]\n",
      "valid epoch[7/10]: 100%|██████████| 8/8 [00:12<00:00,  1.50s/it]\n",
      "[epoch 7] train_loss: 1.749  train_accuracy: 0.581  val_loss: 0.479  val_accuracy: 0.867\n",
      "train epoch[8/10] loss:1.808: 100%|██████████| 229/229 [04:14<00:00,  1.11s/it]\n",
      "valid epoch[8/10]: 100%|██████████| 8/8 [00:11<00:00,  1.49s/it]\n",
      "[epoch 8] train_loss: 1.741  train_accuracy: 0.587  val_loss: 0.472  val_accuracy: 0.874\n",
      "train epoch[9/10] loss:1.867: 100%|██████████| 229/229 [04:28<00:00,  1.17s/it]\n",
      "valid epoch[9/10]: 100%|██████████| 8/8 [00:12<00:00,  1.62s/it]\n",
      "[epoch 9] train_loss: 1.728  train_accuracy: 0.590  val_loss: 0.457  val_accuracy: 0.870\n",
      "train epoch[10/10] loss:2.763: 100%|██████████| 229/229 [04:22<00:00,  1.15s/it]\n",
      "valid epoch[10/10]: 100%|██████████| 8/8 [00:12<00:00,  1.61s/it]\n",
      "[epoch 10] train_loss: 1.740  train_accuracy: 0.589  val_loss: 0.444  val_accuracy: 0.876\n",
      "Finished Training\n"
     ]
    }
   ],
   "source": [
    "def main():\n",
    "    device = torch.device(\"cuda:0\" if torch.cuda.is_available() else \"cpu\")\n",
    "    print(\"using {} device.\".format(device))\n",
    "\n",
    "    data_transform = {\n",
    "        \"train\": transforms.Compose([transforms.RandomResizedCrop(224),\n",
    "                                     transforms.RandomHorizontalFlip(),\n",
    "                                     transforms.ToTensor(),\n",
    "                                     transforms.Normalize((0.5, 0.5, 0.5), (0.5, 0.5, 0.5))]),\n",
    "        \"val\": transforms.Compose([transforms.Resize((224, 224)),\n",
    "                                   transforms.ToTensor(),\n",
    "                                   transforms.Normalize((0.5, 0.5, 0.5), (0.5, 0.5, 0.5))])}\n",
    "\n",
    "    data_root = '/content/drive/MyDrive/data'  # get data root path\n",
    "    image_path = os.path.join(data_root)  # flower data set path\n",
    "    assert os.path.exists(image_path), \"{} path does not exist.\".format(image_path)\n",
    "    train_dataset = datasets.ImageFolder(root=os.path.join(image_path, \"train\"),\n",
    "                                         transform=data_transform[\"train\"])\n",
    "    train_num = len(train_dataset)\n",
    "\n",
    "\n",
    "    bird_list = train_dataset.class_to_idx\n",
    "    cla_dict = dict((val, key) for key, val in bird_list.items())\n",
    "    # write dict into json file\n",
    "    json_str = json.dumps(cla_dict, indent=4)\n",
    "    with open('/content/drive/MyDrive/model/class_indices_vgg_400bird.json', 'w') as json_file:\n",
    "        json_file.write(json_str)\n",
    "\n",
    "    batch_size = 256\n",
    "    nw = min([os.cpu_count(), batch_size if batch_size > 1 else 0, 8])  # number of workers\n",
    "    print('Using {} dataloader workers every process'.format(nw))\n",
    "\n",
    "    train_loader = torch.utils.data.DataLoader(train_dataset,\n",
    "                                               batch_size=batch_size, shuffle=True,\n",
    "                                               num_workers=nw)\n",
    "\n",
    "    validate_dataset = datasets.ImageFolder(root=os.path.join(image_path, \"valid\"),\n",
    "                                            transform=data_transform[\"val\"])\n",
    "    val_num = len(validate_dataset)\n",
    "    validate_loader = torch.utils.data.DataLoader(validate_dataset,\n",
    "                                                  batch_size=batch_size, shuffle=False,\n",
    "                                                  num_workers=nw)\n",
    "    print(\"using {} images for training, {} images for validation.\".format(train_num,\n",
    "                                                                           val_num))\n",
    "\n",
    "    # test_data_iter = iter(validate_loader)\n",
    "    # test_image, test_label = test_data_iter.next()\n",
    "\n",
    "    # model_name = \"vgg16\"\n",
    "    # net = vgg(model_name=model_name, num_classes=400, init_weights=True)\n",
    "    # net.to(device)\n",
    "    # loss_function = nn.CrossEntropyLoss()\n",
    "    # optimizer = optim.Adam(net.parameters(), lr=0.001)\n",
    "\n",
    "    net = vgg16\n",
    "    for param in net.parameters():\n",
    "        param.requires_grad = False\n",
    "\n",
    "    # change fc layer structure\n",
    "    net.classifier[6] = nn.Linear(4096,400)\n",
    "    net.to(device)\n",
    "\n",
    "    # define loss function\n",
    "    loss_function = nn.CrossEntropyLoss()\n",
    "\n",
    "    # construct an optimizer\n",
    "    params = [p for p in net.parameters() if p.requires_grad]\n",
    "    optimizer = optim.Adam(params, lr=0.001)\n",
    "\n",
    "    epochs = 10\n",
    "    best_acc = 0.0\n",
    "    save_path = '/content/drive/MyDrive/model/VGG_400bird.pth'\n",
    "    train_steps = len(train_loader)\n",
    "\n",
    "    train_loss = []\n",
    "    train_acc = []\n",
    "    val_loss = []\n",
    "    val_acc = []\n",
    "    for epoch in range(epochs):\n",
    "        # train\n",
    "        net.train()\n",
    "        running_loss = 0.0\n",
    "        num_correct = 0.0\n",
    "        train_bar = tqdm(train_loader, file=sys.stdout)\n",
    "        for step, data in enumerate(train_bar):\n",
    "            images, labels = data\n",
    "            optimizer.zero_grad()\n",
    "            outputs = net(images.to(device))\n",
    "            loss = loss_function(outputs, labels.to(device))\n",
    "            loss.backward()\n",
    "            optimizer.step()\n",
    "\n",
    "            # print statistics\n",
    "            running_loss += loss.item()\n",
    "            pred = torch.max(outputs, dim=1)[1]\n",
    "            num_correct += torch.eq(pred, labels.to(device)).sum().item()\n",
    "\n",
    "            train_bar.desc = \"train epoch[{}/{}] loss:{:.3f}\".format(epoch + 1,\n",
    "                                                                     epochs,\n",
    "                                                                     loss)\n",
    "\n",
    "        # validate\n",
    "        net.eval()\n",
    "        acc = 0.0  # accumulate accurate number / epoch\n",
    "        vali_loss = 0.0\n",
    "        with torch.no_grad():\n",
    "            val_bar = tqdm(validate_loader, file=sys.stdout)\n",
    "            for val_data in val_bar:\n",
    "                val_images, val_labels = val_data\n",
    "                outputs = net(val_images.to(device))\n",
    "                loss = loss_function(outputs, val_labels.to(device))\n",
    "                predict_y = torch.max(outputs, dim=1)[1]\n",
    "                acc += torch.eq(predict_y, val_labels.to(device)).sum().item()\n",
    "                vali_loss += loss.item()\n",
    "\n",
    "                val_bar.desc = \"valid epoch[{}/{}]\".format(epoch + 1,\n",
    "                                                           epochs)\n",
    "\n",
    "        val_accurate = acc / val_num\n",
    "        print('[epoch %d] train_loss: %.3f  train_accuracy: %.3f  val_loss: %.3f  val_accuracy: %.3f' %\n",
    "              (epoch + 1, running_loss / train_steps, num_correct / len(train_loader.dataset), vali_loss / len(validate_loader), val_accurate))\n",
    "        \n",
    "        train_loss.append(running_loss / train_steps)\n",
    "        val_acc.append(val_accurate)\n",
    "        train_acc.append(num_correct / len(train_loader.dataset))\n",
    "        val_loss.append(vali_loss / len(validate_loader))\n",
    "\n",
    "\n",
    "        if val_accurate > best_acc:\n",
    "            best_acc = val_accurate\n",
    "            torch.save(net.state_dict(), save_path)\n",
    "\n",
    "    print('Finished Training')\n",
    "    return train_loss, train_acc, val_loss, val_acc\n",
    "\n",
    "\n",
    "if __name__ == '__main__':\n",
    "    train_loss, train_acc, val_loss, val_acc = main()"
   ]
  },
  {
   "cell_type": "code",
   "execution_count": null,
   "metadata": {
    "colab": {
     "base_uri": "https://localhost:8080/",
     "height": 317
    },
    "id": "hW35RlvC9jl5",
    "outputId": "62884842-de42-42ce-814f-f9091c1e5c3f"
   },
   "outputs": [
    {
     "data": {
      "text/plain": [
       "<matplotlib.axes._subplots.AxesSubplot at 0x7f4842c05690>"
      ]
     },
     "execution_count": 13,
     "metadata": {},
     "output_type": "execute_result"
    },
    {
     "data": {
      "image/png": "[encoded data removed]",
      "text/plain": [
       "<Figure size 432x288 with 1 Axes>"
      ]
     },
     "metadata": {
      "needs_background": "light"
     },
     "output_type": "display_data"
    }
   ],
   "source": [
    "df_loss = pd.DataFrame(data = {'train_loss':train_loss, 'val_loss':val_loss}, index = [1,2,3,4,5,6,7,8,9,10] )\n",
    "df_loss.plot(xticks=[1,2,3,4,5,6,7,8,9,10], title='Training and Validation Loss', fontsize=14, xlabel='Iteration Index', ylabel='Loss')"
   ]
  },
  {
   "cell_type": "code",
   "execution_count": null,
   "metadata": {
    "colab": {
     "base_uri": "https://localhost:8080/",
     "height": 317
    },
    "id": "fR4Xm51F9jUw",
    "outputId": "5d359825-17a3-4013-8922-db98b90be101"
   },
   "outputs": [
    {
     "data": {
      "text/plain": [
       "<matplotlib.axes._subplots.AxesSubplot at 0x7f48400fd850>"
      ]
     },
     "execution_count": 14,
     "metadata": {},
     "output_type": "execute_result"
    },
    {
     "data": {
      "image/png": "[encoded data removed]",
      "text/plain": [
       "<Figure size 432x288 with 1 Axes>"
      ]
     },
     "metadata": {
      "needs_background": "light"
     },
     "output_type": "display_data"
    }
   ],
   "source": [
    "df_acc = pd.DataFrame(data = {'train_acc':train_acc, 'val_acc':val_acc}, index = [1,2,3,4,5,6,7,8,9,10] )\n",
    "df_acc.plot(xticks=[1,2,3,4,5,6,7,8,9,10], title='Training and Validation Accuracy', fontsize=14, xlabel='Iteration Index', ylabel='Accuracy')"
   ]
  },
  {
   "cell_type": "code",
   "execution_count": null,
   "metadata": {
    "id": "j3iHk3VK9jKy"
   },
   "outputs": [],
   "source": []
  },
  {
   "cell_type": "code",
   "execution_count": null,
   "metadata": {
    "id": "grfgUKDA7wl3"
   },
   "outputs": [],
   "source": []
  }
 ],
 "metadata": {
  "accelerator": "GPU",
  "colab": {
   "collapsed_sections": [],
   "name": "400bird_VGG.ipynb",
   "provenance": []
  },
  "kernelspec": {
   "display_name": "Python 3 (ipykernel)",
   "language": "python",
   "name": "python3"
  },
  "language_info": {
   "codemirror_mode": {
    "name": "ipython",
    "version": 3
   },
   "file_extension": ".py",
   "mimetype": "text/x-python",
   "name": "python",
   "nbconvert_exporter": "python",
   "pygments_lexer": "ipython3",
   "version": "3.10.2"
  },
  "widgets": {
   "application/vnd.jupyter.widget-state+json": {
    "1b51e48863a64b578255de247a51c140": {
     "model_module": "@jupyter-widgets/base",
     "model_module_version": "1.2.0",
     "model_name": "LayoutModel",
     "state": {
      "_model_module": "@jupyter-widgets/base",
      "_model_module_version": "1.2.0",
      "_model_name": "LayoutModel",
      "_view_count": null,
      "_view_module": "@jupyter-widgets/base",
      "_view_module_version": "1.2.0",
      "_view_name": "LayoutView",
      "align_content": null,
      "align_items": null,
      "align_self": null,
      "border": null,
      "bottom": null,
      "display": null,
      "flex": null,
      "flex_flow": null,
      "grid_area": null,
      "grid_auto_columns": null,
      "grid_auto_flow": null,
      "grid_auto_rows": null,
      "grid_column": null,
      "grid_gap": null,
      "grid_row": null,
      "grid_template_areas": null,
      "grid_template_columns": null,
      "grid_template_rows": null,
      "height": null,
      "justify_content": null,
      "justify_items": null,
      "left": null,
      "margin": null,
      "max_height": null,
      "max_width": null,
      "min_height": null,
      "min_width": null,
      "object_fit": null,
      "object_position": null,
      "order": null,
      "overflow": null,
      "overflow_x": null,
      "overflow_y": null,
      "padding": null,
      "right": null,
      "top": null,
      "visibility": null,
      "width": null
     }
    },
    "23ea80932c2847fa903811ba33b5bf24": {
     "model_module": "@jupyter-widgets/controls",
     "model_module_version": "1.5.0",
     "model_name": "HTMLModel",
     "state": {
      "_dom_classes": [],
      "_model_module": "@jupyter-widgets/controls",
      "_model_module_version": "1.5.0",
      "_model_name": "HTMLModel",
      "_view_count": null,
      "_view_module": "@jupyter-widgets/controls",
      "_view_module_version": "1.5.0",
      "_view_name": "HTMLView",
      "description": "",
      "description_tooltip": null,
      "layout": "IPY_MODEL_1b51e48863a64b578255de247a51c140",
      "placeholder": "​",
      "style": "IPY_MODEL_4bd7d6e59ad04fd59e268b1ae4621dab",
      "value": "100%"
     }
    },
    "29ad6d2631424325a908eed12e827a4d": {
     "model_module": "@jupyter-widgets/base",
     "model_module_version": "1.2.0",
     "model_name": "LayoutModel",
     "state": {
      "_model_module": "@jupyter-widgets/base",
      "_model_module_version": "1.2.0",
      "_model_name": "LayoutModel",
      "_view_count": null,
      "_view_module": "@jupyter-widgets/base",
      "_view_module_version": "1.2.0",
      "_view_name": "LayoutView",
      "align_content": null,
      "align_items": null,
      "align_self": null,
      "border": null,
      "bottom": null,
      "display": null,
      "flex": null,
      "flex_flow": null,
      "grid_area": null,
      "grid_auto_columns": null,
      "grid_auto_flow": null,
      "grid_auto_rows": null,
      "grid_column": null,
      "grid_gap": null,
      "grid_row": null,
      "grid_template_areas": null,
      "grid_template_columns": null,
      "grid_template_rows": null,
      "height": null,
      "justify_content": null,
      "justify_items": null,
      "left": null,
      "margin": null,
      "max_height": null,
      "max_width": null,
      "min_height": null,
      "min_width": null,
      "object_fit": null,
      "object_position": null,
      "order": null,
      "overflow": null,
      "overflow_x": null,
      "overflow_y": null,
      "padding": null,
      "right": null,
      "top": null,
      "visibility": null,
      "width": null
     }
    },
    "4bd7d6e59ad04fd59e268b1ae4621dab": {
     "model_module": "@jupyter-widgets/controls",
     "model_module_version": "1.5.0",
     "model_name": "DescriptionStyleModel",
     "state": {
      "_model_module": "@jupyter-widgets/controls",
      "_model_module_version": "1.5.0",
      "_model_name": "DescriptionStyleModel",
      "_view_count": null,
      "_view_module": "@jupyter-widgets/base",
      "_view_module_version": "1.2.0",
      "_view_name": "StyleView",
      "description_width": ""
     }
    },
    "5d6c61432c4741248a95a230183f1c07": {
     "model_module": "@jupyter-widgets/base",
     "model_module_version": "1.2.0",
     "model_name": "LayoutModel",
     "state": {
      "_model_module": "@jupyter-widgets/base",
      "_model_module_version": "1.2.0",
      "_model_name": "LayoutModel",
      "_view_count": null,
      "_view_module": "@jupyter-widgets/base",
      "_view_module_version": "1.2.0",
      "_view_name": "LayoutView",
      "align_content": null,
      "align_items": null,
      "align_self": null,
      "border": null,
      "bottom": null,
      "display": null,
      "flex": null,
      "flex_flow": null,
      "grid_area": null,
      "grid_auto_columns": null,
      "grid_auto_flow": null,
      "grid_auto_rows": null,
      "grid_column": null,
      "grid_gap": null,
      "grid_row": null,
      "grid_template_areas": null,
      "grid_template_columns": null,
      "grid_template_rows": null,
      "height": null,
      "justify_content": null,
      "justify_items": null,
      "left": null,
      "margin": null,
      "max_height": null,
      "max_width": null,
      "min_height": null,
      "min_width": null,
      "object_fit": null,
      "object_position": null,
      "order": null,
      "overflow": null,
      "overflow_x": null,
      "overflow_y": null,
      "padding": null,
      "right": null,
      "top": null,
      "visibility": null,
      "width": null
     }
    },
    "716c1f5f494e494c96a48f43ed3b9886": {
     "model_module": "@jupyter-widgets/controls",
     "model_module_version": "1.5.0",
     "model_name": "HBoxModel",
     "state": {
      "_dom_classes": [],
      "_model_module": "@jupyter-widgets/controls",
      "_model_module_version": "1.5.0",
      "_model_name": "HBoxModel",
      "_view_count": null,
      "_view_module": "@jupyter-widgets/controls",
      "_view_module_version": "1.5.0",
      "_view_name": "HBoxView",
      "box_style": "",
      "children": [
       "IPY_MODEL_23ea80932c2847fa903811ba33b5bf24",
       "IPY_MODEL_7348673c19934ebda079919347a80a98",
       "IPY_MODEL_b56ab83adecd4fdbbf3bbb84cb54377f"
      ],
      "layout": "IPY_MODEL_7fa3785688af41649eb6e0072e1e537a"
     }
    },
    "7348673c19934ebda079919347a80a98": {
     "model_module": "@jupyter-widgets/controls",
     "model_module_version": "1.5.0",
     "model_name": "FloatProgressModel",
     "state": {
      "_dom_classes": [],
      "_model_module": "@jupyter-widgets/controls",
      "_model_module_version": "1.5.0",
      "_model_name": "FloatProgressModel",
      "_view_count": null,
      "_view_module": "@jupyter-widgets/controls",
      "_view_module_version": "1.5.0",
      "_view_name": "ProgressView",
      "bar_style": "success",
      "description": "",
      "description_tooltip": null,
      "layout": "IPY_MODEL_5d6c61432c4741248a95a230183f1c07",
      "max": 553433881,
      "min": 0,
      "orientation": "horizontal",
      "style": "IPY_MODEL_80eb60276f574284ac447f607ea7cd6c",
      "value": 553433881
     }
    },
    "7fa3785688af41649eb6e0072e1e537a": {
     "model_module": "@jupyter-widgets/base",
     "model_module_version": "1.2.0",
     "model_name": "LayoutModel",
     "state": {
      "_model_module": "@jupyter-widgets/base",
      "_model_module_version": "1.2.0",
      "_model_name": "LayoutModel",
      "_view_count": null,
      "_view_module": "@jupyter-widgets/base",
      "_view_module_version": "1.2.0",
      "_view_name": "LayoutView",
      "align_content": null,
      "align_items": null,
      "align_self": null,
      "border": null,
      "bottom": null,
      "display": null,
      "flex": null,
      "flex_flow": null,
      "grid_area": null,
      "grid_auto_columns": null,
      "grid_auto_flow": null,
      "grid_auto_rows": null,
      "grid_column": null,
      "grid_gap": null,
      "grid_row": null,
      "grid_template_areas": null,
      "grid_template_columns": null,
      "grid_template_rows": null,
      "height": null,
      "justify_content": null,
      "justify_items": null,
      "left": null,
      "margin": null,
      "max_height": null,
      "max_width": null,
      "min_height": null,
      "min_width": null,
      "object_fit": null,
      "object_position": null,
      "order": null,
      "overflow": null,
      "overflow_x": null,
      "overflow_y": null,
      "padding": null,
      "right": null,
      "top": null,
      "visibility": null,
      "width": null
     }
    },
    "80eb60276f574284ac447f607ea7cd6c": {
     "model_module": "@jupyter-widgets/controls",
     "model_module_version": "1.5.0",
     "model_name": "ProgressStyleModel",
     "state": {
      "_model_module": "@jupyter-widgets/controls",
      "_model_module_version": "1.5.0",
      "_model_name": "ProgressStyleModel",
      "_view_count": null,
      "_view_module": "@jupyter-widgets/base",
      "_view_module_version": "1.2.0",
      "_view_name": "StyleView",
      "bar_color": null,
      "description_width": ""
     }
    },
    "94350840b16e41038ee557db1723d97d": {
     "model_module": "@jupyter-widgets/controls",
     "model_module_version": "1.5.0",
     "model_name": "DescriptionStyleModel",
     "state": {
      "_model_module": "@jupyter-widgets/controls",
      "_model_module_version": "1.5.0",
      "_model_name": "DescriptionStyleModel",
      "_view_count": null,
      "_view_module": "@jupyter-widgets/base",
      "_view_module_version": "1.2.0",
      "_view_name": "StyleView",
      "description_width": ""
     }
    },
    "b56ab83adecd4fdbbf3bbb84cb54377f": {
     "model_module": "@jupyter-widgets/controls",
     "model_module_version": "1.5.0",
     "model_name": "HTMLModel",
     "state": {
      "_dom_classes": [],
      "_model_module": "@jupyter-widgets/controls",
      "_model_module_version": "1.5.0",
      "_model_name": "HTMLModel",
      "_view_count": null,
      "_view_module": "@jupyter-widgets/controls",
      "_view_module_version": "1.5.0",
      "_view_name": "HTMLView",
      "description": "",
      "description_tooltip": null,
      "layout": "IPY_MODEL_29ad6d2631424325a908eed12e827a4d",
      "placeholder": "​",
      "style": "IPY_MODEL_94350840b16e41038ee557db1723d97d",
      "value": " 528M/528M [00:02&lt;00:00, 241MB/s]"
     }
    }
   }
  }
 },
 "nbformat": 4,
 "nbformat_minor": 1
}

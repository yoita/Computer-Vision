{
 "cells": [
  {
   "cell_type": "code",
   "execution_count": null,
   "metadata": {
    "colab": {
     "base_uri": "https://localhost:8080/"
    },
    "id": "0bQjvHxdcO7k",
    "outputId": "ea6f7e46-7662-48a4-ca6d-1f9aa2b97eb3"
   },
   "outputs": [
    {
     "name": "stdout",
     "output_type": "stream",
     "text": [
      "Mounted at /content/drive\n"
     ]
    }
   ],
   "source": [
    "from google.colab import drive\n",
    "drive.mount('/content/drive')"
   ]
  },
  {
   "cell_type": "code",
   "execution_count": null,
   "metadata": {
    "colab": {
     "base_uri": "https://localhost:8080/",
     "height": 67,
     "referenced_widgets": [
      "d2764d1d33b84dbba024e68bac8953b9",
      "9711aa394d9245ef96ec0d65b9e3d2d5",
      "3ff7d3e98e3c4fe4b70134bda3a31e09",
      "05238ac30e1f476c97e4a2d04818fe82",
      "07fee1c1655a440d84871a9b3a22a2f7",
      "f498aff1e81c4f608dab2950716bd6bd",
      "40b4ba0c421c4c28b61eb819d288c782",
      "9b0d41f4e5ec4ddebc78f5da7064a134",
      "7ba771bf3fee49db9d19a1e7c5ed5ba1",
      "c27700f250944c1ba6989f912cf9e566",
      "70db0fd883fa4c15afc6adfad1d13c74"
     ]
    },
    "id": "dzBUuXITccGA",
    "outputId": "bd6666b6-3bd4-418d-83b1-ff36d447829c"
   },
   "outputs": [
    {
     "name": "stderr",
     "output_type": "stream",
     "text": [
      "Downloading: \"https://download.pytorch.org/models/resnext50_32x4d-7cdf4587.pth\" to /root/.cache/torch/hub/checkpoints/resnext50_32x4d-7cdf4587.pth\n"
     ]
    },
    {
     "data": {
      "application/vnd.jupyter.widget-view+json": {
       "model_id": "d2764d1d33b84dbba024e68bac8953b9",
       "version_major": 2,
       "version_minor": 0
      },
      "text/plain": [
       "  0%|          | 0.00/95.8M [00:00<?, ?B/s]"
      ]
     },
     "metadata": {},
     "output_type": "display_data"
    }
   ],
   "source": [
    "import os\n",
    "import sys\n",
    "import json\n",
    "\n",
    "import torch\n",
    "import torch.nn as nn\n",
    "import torch.optim as optim\n",
    "from torchvision import transforms, datasets\n",
    "from tqdm import tqdm\n",
    "\n",
    "import torchvision.models as models\n",
    "\n",
    "resnext50 = models.resnext50_32x4d(pretrained=True)"
   ]
  },
  {
   "cell_type": "code",
   "execution_count": null,
   "metadata": {
    "id": "o0SR0Zf97Qj_"
   },
   "outputs": [],
   "source": [
    "import pandas as pd"
   ]
  },
  {
   "cell_type": "code",
   "execution_count": null,
   "metadata": {
    "colab": {
     "base_uri": "https://localhost:8080/"
    },
    "id": "LX_Yksaec29W",
    "outputId": "9f096a7a-059c-41d0-973e-87b401670345"
   },
   "outputs": [
    {
     "name": "stdout",
     "output_type": "stream",
     "text": [
      "using cuda:0 device.\n",
      "Using 2 dataloader workers every process\n",
      "using 58388 images for training, 2000 images for validation.\n",
      "train epoch[1/10] loss:2.625: 100%|██████████| 229/229 [3:33:23<00:00, 55.91s/it]\n",
      "valid epoch[1/10]: 100%|██████████| 8/8 [07:36<00:00, 57.07s/it]\n",
      "[epoch 1] train_loss: 3.171  train_accuracy: 0.451  val_loss: 1.107  val_accuracy: 0.820\n",
      "train epoch[2/10] loss:1.596: 100%|██████████| 229/229 [03:56<00:00,  1.03s/it]\n",
      "valid epoch[2/10]: 100%|██████████| 8/8 [00:08<00:00,  1.11s/it]\n",
      "[epoch 2] train_loss: 1.527  train_accuracy: 0.688  val_loss: 0.612  val_accuracy: 0.893\n",
      "train epoch[3/10] loss:0.882: 100%|██████████| 229/229 [03:56<00:00,  1.03s/it]\n",
      "valid epoch[3/10]: 100%|██████████| 8/8 [00:08<00:00,  1.11s/it]\n",
      "[epoch 3] train_loss: 1.243  train_accuracy: 0.726  val_loss: 0.481  val_accuracy: 0.897\n",
      "train epoch[4/10] loss:1.496: 100%|██████████| 229/229 [04:01<00:00,  1.05s/it]\n",
      "valid epoch[4/10]: 100%|██████████| 8/8 [00:08<00:00,  1.12s/it]\n",
      "[epoch 4] train_loss: 1.106  train_accuracy: 0.750  val_loss: 0.407  val_accuracy: 0.911\n",
      "train epoch[5/10] loss:0.940: 100%|██████████| 229/229 [03:54<00:00,  1.03s/it]\n",
      "valid epoch[5/10]: 100%|██████████| 8/8 [00:08<00:00,  1.11s/it]\n",
      "[epoch 5] train_loss: 1.046  train_accuracy: 0.757  val_loss: 0.354  val_accuracy: 0.919\n",
      "train epoch[6/10] loss:0.627: 100%|██████████| 229/229 [03:56<00:00,  1.03s/it]\n",
      "valid epoch[6/10]: 100%|██████████| 8/8 [00:08<00:00,  1.12s/it]\n",
      "[epoch 6] train_loss: 0.978  train_accuracy: 0.769  val_loss: 0.340  val_accuracy: 0.921\n",
      "train epoch[7/10] loss:0.828: 100%|██████████| 229/229 [03:53<00:00,  1.02s/it]\n",
      "valid epoch[7/10]: 100%|██████████| 8/8 [00:09<00:00,  1.13s/it]\n",
      "[epoch 7] train_loss: 0.936  train_accuracy: 0.778  val_loss: 0.311  val_accuracy: 0.922\n",
      "train epoch[8/10] loss:0.731: 100%|██████████| 229/229 [03:53<00:00,  1.02s/it]\n",
      "valid epoch[8/10]: 100%|██████████| 8/8 [00:08<00:00,  1.10s/it]\n",
      "[epoch 8] train_loss: 0.912  train_accuracy: 0.781  val_loss: 0.311  val_accuracy: 0.924\n",
      "train epoch[9/10] loss:1.150: 100%|██████████| 229/229 [03:55<00:00,  1.03s/it]\n",
      "valid epoch[9/10]: 100%|██████████| 8/8 [00:08<00:00,  1.12s/it]\n",
      "[epoch 9] train_loss: 0.879  train_accuracy: 0.790  val_loss: 0.288  val_accuracy: 0.924\n",
      "train epoch[10/10] loss:0.541: 100%|██████████| 229/229 [03:55<00:00,  1.03s/it]\n",
      "valid epoch[10/10]: 100%|██████████| 8/8 [00:08<00:00,  1.11s/it]\n",
      "[epoch 10] train_loss: 0.862  train_accuracy: 0.792  val_loss: 0.276  val_accuracy: 0.926\n",
      "Finished Training\n"
     ]
    }
   ],
   "source": [
    "def main():\n",
    "    device = torch.device(\"cuda:0\" if torch.cuda.is_available() else \"cpu\")\n",
    "    print(\"using {} device.\".format(device))\n",
    "\n",
    "    data_transform = {\n",
    "        \"train\": transforms.Compose([transforms.RandomResizedCrop(224),\n",
    "                                     transforms.RandomHorizontalFlip(),\n",
    "                                     transforms.ToTensor(),\n",
    "                                     transforms.Normalize([0.485, 0.456, 0.406], [0.229, 0.224, 0.225])]),\n",
    "        \"val\": transforms.Compose([transforms.Resize(256),\n",
    "                                   transforms.CenterCrop(224),\n",
    "                                   transforms.ToTensor(),\n",
    "                                   transforms.Normalize([0.485, 0.456, 0.406], [0.229, 0.224, 0.225])])}\n",
    "\n",
    "    data_root = '/content/drive/MyDrive/data'  # get data root path\n",
    "    image_path = os.path.join(data_root)  # data set path\n",
    "    assert os.path.exists(image_path), \"{} path does not exist.\".format(image_path)\n",
    "    train_dataset = datasets.ImageFolder(root=os.path.join(image_path, \"train\"),\n",
    "                                         transform=data_transform[\"train\"])\n",
    "    train_num = len(train_dataset)\n",
    "\n",
    "\n",
    "    bird_list = train_dataset.class_to_idx\n",
    "    cla_dict = dict((val, key) for key, val in bird_list.items())\n",
    "    # write dict into json file\n",
    "    json_str = json.dumps(cla_dict, indent=4)\n",
    "    with open('/content/drive/MyDrive/model/class_indices_resnext_data1.json', 'w') as json_file:\n",
    "        json_file.write(json_str)\n",
    "\n",
    "    batch_size = 256\n",
    "    nw = min([os.cpu_count(), batch_size if batch_size > 1 else 0, 8])  # number of workers\n",
    "    print('Using {} dataloader workers every process'.format(nw))\n",
    "\n",
    "    train_loader = torch.utils.data.DataLoader(train_dataset,\n",
    "                                               batch_size=batch_size, shuffle=True,\n",
    "                                               num_workers=nw)\n",
    "\n",
    "    validate_dataset = datasets.ImageFolder(root=os.path.join(image_path, \"valid\"),\n",
    "                                            transform=data_transform[\"val\"])\n",
    "    val_num = len(validate_dataset)\n",
    "    validate_loader = torch.utils.data.DataLoader(validate_dataset,\n",
    "                                                  batch_size=batch_size, shuffle=False,\n",
    "                                                  num_workers=nw)\n",
    "\n",
    "    print(\"using {} images for training, {} images for validation.\".format(train_num,\n",
    "                                                                           val_num))\n",
    "    \n",
    "    net = resnext50\n",
    "    # load pretrain weights\n",
    "    # download url: https://download.pytorch.org/models/resnet50-19c8e357.pth\n",
    "    # model_weight_path = r'resnet50-19c8e357.pth'\n",
    "    # assert os.path.exists(model_weight_path), \"file {} does not exist.\".format(model_weight_path)\n",
    "    # net.load_state_dict(torch.load(model_weight_path, map_location='cpu'))\n",
    "    for param in net.parameters():\n",
    "        param.requires_grad = False\n",
    "\n",
    "    # change fc layer structure\n",
    "    in_channel = net.fc.in_features\n",
    "    net.fc = nn.Linear(in_channel, 400)\n",
    "    net.to(device)\n",
    "\n",
    "    # define loss function\n",
    "    loss_function = nn.CrossEntropyLoss()\n",
    "\n",
    "    # construct an optimizer\n",
    "    params = [p for p in net.parameters() if p.requires_grad]\n",
    "    optimizer = optim.Adam(params, lr=0.001)\n",
    "\n",
    "    epochs = 10\n",
    "    best_acc = 0.0\n",
    "    save_path = '/content/drive/MyDrive/model/resNeXt50_data1.pth'\n",
    "    train_steps = len(train_loader)\n",
    "\n",
    "    train_loss = []\n",
    "    train_acc = []  \n",
    "    val_loss = []  \n",
    "    val_acc = []\n",
    "    for epoch in range(epochs):\n",
    "        # train\n",
    "        net.train()\n",
    "        running_loss = 0.0\n",
    "        num_correct = 0.0 \n",
    "        train_bar = tqdm(train_loader, file=sys.stdout)\n",
    "        for step, data in enumerate(train_bar):\n",
    "            images, labels = data\n",
    "            optimizer.zero_grad()\n",
    "            logits = net(images.to(device))\n",
    "            loss = loss_function(logits, labels.to(device))\n",
    "            loss.backward()\n",
    "            optimizer.step()\n",
    "\n",
    "            # print statistics\n",
    "            running_loss += loss.item()\n",
    "            pred = torch.max(logits, dim=1)[1]     \n",
    "            num_correct += torch.eq(pred, labels.to(device)).sum().item() \n",
    "\n",
    "            train_bar.desc = \"train epoch[{}/{}] loss:{:.3f}\".format(epoch + 1,\n",
    "                                                                     epochs,\n",
    "                                                                     loss)\n",
    "\n",
    "        # validate\n",
    "        net.eval()\n",
    "        acc = 0.0  # accumulate accurate number / epoch\n",
    "        vali_loss = 0.0 \n",
    "        with torch.no_grad():\n",
    "            val_bar = tqdm(validate_loader, file=sys.stdout)\n",
    "            for val_data in val_bar:\n",
    "                val_images, val_labels = val_data\n",
    "                outputs = net(val_images.to(device))\n",
    "                loss = loss_function(outputs, val_labels.to(device))\n",
    "                predict_y = torch.max(outputs, dim=1)[1]\n",
    "                acc += torch.eq(predict_y, val_labels.to(device)).sum().item()\n",
    "                vali_loss += loss.item() \n",
    "\n",
    "                val_bar.desc = \"valid epoch[{}/{}]\".format(epoch + 1,\n",
    "                                                           epochs)\n",
    "\n",
    "        val_accurate = acc / val_num\n",
    "        print('[epoch %d] train_loss: %.3f  train_accuracy: %.3f  val_loss: %.3f  val_accuracy: %.3f' %\n",
    "              (epoch + 1, running_loss / train_steps, num_correct / len(train_loader.dataset), vali_loss / len(validate_loader), val_accurate))\n",
    "        \n",
    "        train_loss.append(running_loss / train_steps)\n",
    "        val_acc.append(val_accurate)\n",
    "        train_acc.append(num_correct / len(train_loader.dataset)) \n",
    "        val_loss.append(vali_loss / len(validate_loader)) \n",
    "\n",
    "        if val_accurate > best_acc:\n",
    "            best_acc = val_accurate\n",
    "            torch.save(net.state_dict(), save_path)\n",
    "\n",
    "    print('Finished Training')\n",
    "    return train_loss, train_acc, val_loss, val_acc\n",
    "\n",
    "if __name__ == '__main__':\n",
    "    train_loss, train_acc, val_loss, val_acc = main()"
   ]
  },
  {
   "cell_type": "code",
   "execution_count": null,
   "metadata": {
    "colab": {
     "base_uri": "https://localhost:8080/",
     "height": 317
    },
    "id": "q6eC8ITtddL4",
    "outputId": "220977e1-a8c4-4e2e-b4a8-38a2cc79ef1b"
   },
   "outputs": [
    {
     "data": {
      "text/plain": [
       "<matplotlib.axes._subplots.AxesSubplot at 0x7f7b8835dc50>"
      ]
     },
     "execution_count": 7,
     "metadata": {},
     "output_type": "execute_result"
    },
    {
     "data": {
      "image/png": "[encoded data removed]",
      "text/plain": [
       "<Figure size 432x288 with 1 Axes>"
      ]
     },
     "metadata": {
      "needs_background": "light"
     },
     "output_type": "display_data"
    }
   ],
   "source": [
    "df_loss = pd.DataFrame(data = {'train_loss':train_loss, 'val_loss':val_loss}, index = [1,2,3,4,5,6,7,8,9,10] )\n",
    "df_loss.plot(xticks=[1,2,3,4,5,6,7,8,9,10], title='Training and Validation Loss', fontsize=14, xlabel='Iteration Index', ylabel='Loss')"
   ]
  },
  {
   "cell_type": "code",
   "execution_count": null,
   "metadata": {
    "colab": {
     "base_uri": "https://localhost:8080/",
     "height": 317
    },
    "id": "x2Q_1MOi7Uwi",
    "outputId": "505bf11f-aed2-4739-be07-89fad2602b51"
   },
   "outputs": [
    {
     "data": {
      "text/plain": [
       "<matplotlib.axes._subplots.AxesSubplot at 0x7f7c90cd0150>"
      ]
     },
     "execution_count": 8,
     "metadata": {},
     "output_type": "execute_result"
    },
    {
     "data": {
      "image/png": "[encoded data removed]",
      "text/plain": [
       "<Figure size 432x288 with 1 Axes>"
      ]
     },
     "metadata": {
      "needs_background": "light"
     },
     "output_type": "display_data"
    }
   ],
   "source": [
    "df_acc = pd.DataFrame(data = {'train_acc':train_acc, 'val_acc':val_acc}, index = [1,2,3,4,5,6,7,8,9,10] )\n",
    "df_acc.plot(xticks=[1,2,3,4,5,6,7,8,9,10], title='Training and Validation Accuracy', fontsize=14, xlabel='Iteration Index', ylabel='Accuracy')"
   ]
  },
  {
   "cell_type": "code",
   "execution_count": null,
   "metadata": {
    "id": "iJJfTMV97Wft"
   },
   "outputs": [],
   "source": []
  }
 ],
 "metadata": {
  "accelerator": "GPU",
  "colab": {
   "collapsed_sections": [],
   "name": "resnext_data1.ipynb",
   "provenance": []
  },
  "kernelspec": {
   "display_name": "Python 3",
   "language": "python",
   "name": "python3"
  },
  "language_info": {
   "codemirror_mode": {
    "name": "ipython",
    "version": 3
   },
   "file_extension": ".py",
   "mimetype": "text/x-python",
   "name": "python",
   "nbconvert_exporter": "python",
   "pygments_lexer": "ipython3",
   "version": "3.7.4"
  },
  "widgets": {
   "application/vnd.jupyter.widget-state+json": {
    "05238ac30e1f476c97e4a2d04818fe82": {
     "model_module": "@jupyter-widgets/controls",
     "model_module_version": "1.5.0",
     "model_name": "HTMLModel",
     "state": {
      "_dom_classes": [],
      "_model_module": "@jupyter-widgets/controls",
      "_model_module_version": "1.5.0",
      "_model_name": "HTMLModel",
      "_view_count": null,
      "_view_module": "@jupyter-widgets/controls",
      "_view_module_version": "1.5.0",
      "_view_name": "HTMLView",
      "description": "",
      "description_tooltip": null,
      "layout": "IPY_MODEL_c27700f250944c1ba6989f912cf9e566",
      "placeholder": "​",
      "style": "IPY_MODEL_70db0fd883fa4c15afc6adfad1d13c74",
      "value": " 95.8M/95.8M [00:00&lt;00:00, 188MB/s]"
     }
    },
    "07fee1c1655a440d84871a9b3a22a2f7": {
     "model_module": "@jupyter-widgets/base",
     "model_module_version": "1.2.0",
     "model_name": "LayoutModel",
     "state": {
      "_model_module": "@jupyter-widgets/base",
      "_model_module_version": "1.2.0",
      "_model_name": "LayoutModel",
      "_view_count": null,
      "_view_module": "@jupyter-widgets/base",
      "_view_module_version": "1.2.0",
      "_view_name": "LayoutView",
      "align_content": null,
      "align_items": null,
      "align_self": null,
      "border": null,
      "bottom": null,
      "display": null,
      "flex": null,
      "flex_flow": null,
      "grid_area": null,
      "grid_auto_columns": null,
      "grid_auto_flow": null,
      "grid_auto_rows": null,
      "grid_column": null,
      "grid_gap": null,
      "grid_row": null,
      "grid_template_areas": null,
      "grid_template_columns": null,
      "grid_template_rows": null,
      "height": null,
      "justify_content": null,
      "justify_items": null,
      "left": null,
      "margin": null,
      "max_height": null,
      "max_width": null,
      "min_height": null,
      "min_width": null,
      "object_fit": null,
      "object_position": null,
      "order": null,
      "overflow": null,
      "overflow_x": null,
      "overflow_y": null,
      "padding": null,
      "right": null,
      "top": null,
      "visibility": null,
      "width": null
     }
    },
    "3ff7d3e98e3c4fe4b70134bda3a31e09": {
     "model_module": "@jupyter-widgets/controls",
     "model_module_version": "1.5.0",
     "model_name": "FloatProgressModel",
     "state": {
      "_dom_classes": [],
      "_model_module": "@jupyter-widgets/controls",
      "_model_module_version": "1.5.0",
      "_model_name": "FloatProgressModel",
      "_view_count": null,
      "_view_module": "@jupyter-widgets/controls",
      "_view_module_version": "1.5.0",
      "_view_name": "ProgressView",
      "bar_style": "success",
      "description": "",
      "description_tooltip": null,
      "layout": "IPY_MODEL_9b0d41f4e5ec4ddebc78f5da7064a134",
      "max": 100441675,
      "min": 0,
      "orientation": "horizontal",
      "style": "IPY_MODEL_7ba771bf3fee49db9d19a1e7c5ed5ba1",
      "value": 100441675
     }
    },
    "40b4ba0c421c4c28b61eb819d288c782": {
     "model_module": "@jupyter-widgets/controls",
     "model_module_version": "1.5.0",
     "model_name": "DescriptionStyleModel",
     "state": {
      "_model_module": "@jupyter-widgets/controls",
      "_model_module_version": "1.5.0",
      "_model_name": "DescriptionStyleModel",
      "_view_count": null,
      "_view_module": "@jupyter-widgets/base",
      "_view_module_version": "1.2.0",
      "_view_name": "StyleView",
      "description_width": ""
     }
    },
    "70db0fd883fa4c15afc6adfad1d13c74": {
     "model_module": "@jupyter-widgets/controls",
     "model_module_version": "1.5.0",
     "model_name": "DescriptionStyleModel",
     "state": {
      "_model_module": "@jupyter-widgets/controls",
      "_model_module_version": "1.5.0",
      "_model_name": "DescriptionStyleModel",
      "_view_count": null,
      "_view_module": "@jupyter-widgets/base",
      "_view_module_version": "1.2.0",
      "_view_name": "StyleView",
      "description_width": ""
     }
    },
    "7ba771bf3fee49db9d19a1e7c5ed5ba1": {
     "model_module": "@jupyter-widgets/controls",
     "model_module_version": "1.5.0",
     "model_name": "ProgressStyleModel",
     "state": {
      "_model_module": "@jupyter-widgets/controls",
      "_model_module_version": "1.5.0",
      "_model_name": "ProgressStyleModel",
      "_view_count": null,
      "_view_module": "@jupyter-widgets/base",
      "_view_module_version": "1.2.0",
      "_view_name": "StyleView",
      "bar_color": null,
      "description_width": ""
     }
    },
    "9711aa394d9245ef96ec0d65b9e3d2d5": {
     "model_module": "@jupyter-widgets/controls",
     "model_module_version": "1.5.0",
     "model_name": "HTMLModel",
     "state": {
      "_dom_classes": [],
      "_model_module": "@jupyter-widgets/controls",
      "_model_module_version": "1.5.0",
      "_model_name": "HTMLModel",
      "_view_count": null,
      "_view_module": "@jupyter-widgets/controls",
      "_view_module_version": "1.5.0",
      "_view_name": "HTMLView",
      "description": "",
      "description_tooltip": null,
      "layout": "IPY_MODEL_f498aff1e81c4f608dab2950716bd6bd",
      "placeholder": "​",
      "style": "IPY_MODEL_40b4ba0c421c4c28b61eb819d288c782",
      "value": "100%"
     }
    },
    "9b0d41f4e5ec4ddebc78f5da7064a134": {
     "model_module": "@jupyter-widgets/base",
     "model_module_version": "1.2.0",
     "model_name": "LayoutModel",
     "state": {
      "_model_module": "@jupyter-widgets/base",
      "_model_module_version": "1.2.0",
      "_model_name": "LayoutModel",
      "_view_count": null,
      "_view_module": "@jupyter-widgets/base",
      "_view_module_version": "1.2.0",
      "_view_name": "LayoutView",
      "align_content": null,
      "align_items": null,
      "align_self": null,
      "border": null,
      "bottom": null,
      "display": null,
      "flex": null,
      "flex_flow": null,
      "grid_area": null,
      "grid_auto_columns": null,
      "grid_auto_flow": null,
      "grid_auto_rows": null,
      "grid_column": null,
      "grid_gap": null,
      "grid_row": null,
      "grid_template_areas": null,
      "grid_template_columns": null,
      "grid_template_rows": null,
      "height": null,
      "justify_content": null,
      "justify_items": null,
      "left": null,
      "margin": null,
      "max_height": null,
      "max_width": null,
      "min_height": null,
      "min_width": null,
      "object_fit": null,
      "object_position": null,
      "order": null,
      "overflow": null,
      "overflow_x": null,
      "overflow_y": null,
      "padding": null,
      "right": null,
      "top": null,
      "visibility": null,
      "width": null
     }
    },
    "c27700f250944c1ba6989f912cf9e566": {
     "model_module": "@jupyter-widgets/base",
     "model_module_version": "1.2.0",
     "model_name": "LayoutModel",
     "state": {
      "_model_module": "@jupyter-widgets/base",
      "_model_module_version": "1.2.0",
      "_model_name": "LayoutModel",
      "_view_count": null,
      "_view_module": "@jupyter-widgets/base",
      "_view_module_version": "1.2.0",
      "_view_name": "LayoutView",
      "align_content": null,
      "align_items": null,
      "align_self": null,
      "border": null,
      "bottom": null,
      "display": null,
      "flex": null,
      "flex_flow": null,
      "grid_area": null,
      "grid_auto_columns": null,
      "grid_auto_flow": null,
      "grid_auto_rows": null,
      "grid_column": null,
      "grid_gap": null,
      "grid_row": null,
      "grid_template_areas": null,
      "grid_template_columns": null,
      "grid_template_rows": null,
      "height": null,
      "justify_content": null,
      "justify_items": null,
      "left": null,
      "margin": null,
      "max_height": null,
      "max_width": null,
      "min_height": null,
      "min_width": null,
      "object_fit": null,
      "object_position": null,
      "order": null,
      "overflow": null,
      "overflow_x": null,
      "overflow_y": null,
      "padding": null,
      "right": null,
      "top": null,
      "visibility": null,
      "width": null
     }
    },
    "d2764d1d33b84dbba024e68bac8953b9": {
     "model_module": "@jupyter-widgets/controls",
     "model_module_version": "1.5.0",
     "model_name": "HBoxModel",
     "state": {
      "_dom_classes": [],
      "_model_module": "@jupyter-widgets/controls",
      "_model_module_version": "1.5.0",
      "_model_name": "HBoxModel",
      "_view_count": null,
      "_view_module": "@jupyter-widgets/controls",
      "_view_module_version": "1.5.0",
      "_view_name": "HBoxView",
      "box_style": "",
      "children": [
       "IPY_MODEL_9711aa394d9245ef96ec0d65b9e3d2d5",
       "IPY_MODEL_3ff7d3e98e3c4fe4b70134bda3a31e09",
       "IPY_MODEL_05238ac30e1f476c97e4a2d04818fe82"
      ],
      "layout": "IPY_MODEL_07fee1c1655a440d84871a9b3a22a2f7"
     }
    },
    "f498aff1e81c4f608dab2950716bd6bd": {
     "model_module": "@jupyter-widgets/base",
     "model_module_version": "1.2.0",
     "model_name": "LayoutModel",
     "state": {
      "_model_module": "@jupyter-widgets/base",
      "_model_module_version": "1.2.0",
      "_model_name": "LayoutModel",
      "_view_count": null,
      "_view_module": "@jupyter-widgets/base",
      "_view_module_version": "1.2.0",
      "_view_name": "LayoutView",
      "align_content": null,
      "align_items": null,
      "align_self": null,
      "border": null,
      "bottom": null,
      "display": null,
      "flex": null,
      "flex_flow": null,
      "grid_area": null,
      "grid_auto_columns": null,
      "grid_auto_flow": null,
      "grid_auto_rows": null,
      "grid_column": null,
      "grid_gap": null,
      "grid_row": null,
      "grid_template_areas": null,
      "grid_template_columns": null,
      "grid_template_rows": null,
      "height": null,
      "justify_content": null,
      "justify_items": null,
      "left": null,
      "margin": null,
      "max_height": null,
      "max_width": null,
      "min_height": null,
      "min_width": null,
      "object_fit": null,
      "object_position": null,
      "order": null,
      "overflow": null,
      "overflow_x": null,
      "overflow_y": null,
      "padding": null,
      "right": null,
      "top": null,
      "visibility": null,
      "width": null
     }
    }
   }
  }
 },
 "nbformat": 4,
 "nbformat_minor": 1
}
